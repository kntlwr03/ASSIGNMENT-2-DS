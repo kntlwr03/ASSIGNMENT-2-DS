{
 "cells": [
  {
   "cell_type": "code",
   "execution_count": 1,
   "id": "f4697e3c",
   "metadata": {},
   "outputs": [],
   "source": [
    "import pandas as pd\n",
    "import numpy as np\n",
    "import matplotlib.pyplot as plt\n",
    "import seaborn as sns"
   ]
  },
  {
   "cell_type": "code",
   "execution_count": 5,
   "id": "0edd6c46",
   "metadata": {},
   "outputs": [
    {
     "data": {
      "text/html": [
       "<div>\n",
       "<style scoped>\n",
       "    .dataframe tbody tr th:only-of-type {\n",
       "        vertical-align: middle;\n",
       "    }\n",
       "\n",
       "    .dataframe tbody tr th {\n",
       "        vertical-align: top;\n",
       "    }\n",
       "\n",
       "    .dataframe thead th {\n",
       "        text-align: right;\n",
       "    }\n",
       "</style>\n",
       "<table border=\"1\" class=\"dataframe\">\n",
       "  <thead>\n",
       "    <tr style=\"text-align: right;\">\n",
       "      <th></th>\n",
       "      <th>No</th>\n",
       "      <th>X1 transaction date</th>\n",
       "      <th>X2 house age</th>\n",
       "      <th>X3 distance to the nearest MRT station</th>\n",
       "      <th>X4 number of convenience stores</th>\n",
       "      <th>X5 latitude</th>\n",
       "      <th>X6 longitude</th>\n",
       "      <th>Y house price of unit area</th>\n",
       "    </tr>\n",
       "  </thead>\n",
       "  <tbody>\n",
       "    <tr>\n",
       "      <th>0</th>\n",
       "      <td>359</td>\n",
       "      <td>2013.167</td>\n",
       "      <td>1.1</td>\n",
       "      <td>193.5845</td>\n",
       "      <td>6</td>\n",
       "      <td>24.96571</td>\n",
       "      <td>121.54089</td>\n",
       "      <td>45.1</td>\n",
       "    </tr>\n",
       "    <tr>\n",
       "      <th>1</th>\n",
       "      <td>351</td>\n",
       "      <td>2013.000</td>\n",
       "      <td>13.2</td>\n",
       "      <td>492.2313</td>\n",
       "      <td>5</td>\n",
       "      <td>24.96515</td>\n",
       "      <td>121.53737</td>\n",
       "      <td>42.3</td>\n",
       "    </tr>\n",
       "    <tr>\n",
       "      <th>2</th>\n",
       "      <td>374</td>\n",
       "      <td>2013.083</td>\n",
       "      <td>0.0</td>\n",
       "      <td>274.0144</td>\n",
       "      <td>1</td>\n",
       "      <td>24.97480</td>\n",
       "      <td>121.53059</td>\n",
       "      <td>52.2</td>\n",
       "    </tr>\n",
       "    <tr>\n",
       "      <th>3</th>\n",
       "      <td>400</td>\n",
       "      <td>2012.917</td>\n",
       "      <td>12.7</td>\n",
       "      <td>170.1289</td>\n",
       "      <td>1</td>\n",
       "      <td>24.97371</td>\n",
       "      <td>121.52984</td>\n",
       "      <td>37.3</td>\n",
       "    </tr>\n",
       "    <tr>\n",
       "      <th>4</th>\n",
       "      <td>370</td>\n",
       "      <td>2012.667</td>\n",
       "      <td>20.2</td>\n",
       "      <td>2185.1280</td>\n",
       "      <td>3</td>\n",
       "      <td>24.96322</td>\n",
       "      <td>121.51237</td>\n",
       "      <td>22.8</td>\n",
       "    </tr>\n",
       "  </tbody>\n",
       "</table>\n",
       "</div>"
      ],
      "text/plain": [
       "    No  X1 transaction date  X2 house age  \\\n",
       "0  359             2013.167           1.1   \n",
       "1  351             2013.000          13.2   \n",
       "2  374             2013.083           0.0   \n",
       "3  400             2012.917          12.7   \n",
       "4  370             2012.667          20.2   \n",
       "\n",
       "   X3 distance to the nearest MRT station  X4 number of convenience stores  \\\n",
       "0                                193.5845                                6   \n",
       "1                                492.2313                                5   \n",
       "2                                274.0144                                1   \n",
       "3                                170.1289                                1   \n",
       "4                               2185.1280                                3   \n",
       "\n",
       "   X5 latitude  X6 longitude  Y house price of unit area  \n",
       "0     24.96571     121.54089                        45.1  \n",
       "1     24.96515     121.53737                        42.3  \n",
       "2     24.97480     121.53059                        52.2  \n",
       "3     24.97371     121.52984                        37.3  \n",
       "4     24.96322     121.51237                        22.8  "
      ]
     },
     "execution_count": 5,
     "metadata": {},
     "output_type": "execute_result"
    }
   ],
   "source": [
    "whole_data = pd.read_csv(\"Real estate.csv\")\n",
    "data = whole_data.sample(frac=0.7, random_state=42)\n",
    "data.reset_index(drop=True, inplace=True)\n",
    "data.head()"
   ]
  },
  {
   "cell_type": "code",
   "execution_count": 6,
   "id": "9c8b819c",
   "metadata": {},
   "outputs": [
    {
     "data": {
      "text/plain": [
       "(290, 8)"
      ]
     },
     "execution_count": 6,
     "metadata": {},
     "output_type": "execute_result"
    }
   ],
   "source": [
    "data.shape"
   ]
  },
  {
   "cell_type": "code",
   "execution_count": 7,
   "id": "4b6a3d62",
   "metadata": {},
   "outputs": [
    {
     "name": "stdout",
     "output_type": "stream",
     "text": [
      "<class 'pandas.core.frame.DataFrame'>\n",
      "RangeIndex: 290 entries, 0 to 289\n",
      "Data columns (total 8 columns):\n",
      " #   Column                                  Non-Null Count  Dtype  \n",
      "---  ------                                  --------------  -----  \n",
      " 0   No                                      290 non-null    int64  \n",
      " 1   X1 transaction date                     290 non-null    float64\n",
      " 2   X2 house age                            290 non-null    float64\n",
      " 3   X3 distance to the nearest MRT station  290 non-null    float64\n",
      " 4   X4 number of convenience stores         290 non-null    int64  \n",
      " 5   X5 latitude                             290 non-null    float64\n",
      " 6   X6 longitude                            290 non-null    float64\n",
      " 7   Y house price of unit area              290 non-null    float64\n",
      "dtypes: float64(6), int64(2)\n",
      "memory usage: 18.2 KB\n"
     ]
    }
   ],
   "source": [
    "data.info()"
   ]
  },
  {
   "cell_type": "code",
   "execution_count": 10,
   "id": "7cc05f44",
   "metadata": {},
   "outputs": [
    {
     "data": {
      "text/html": [
       "<div>\n",
       "<style scoped>\n",
       "    .dataframe tbody tr th:only-of-type {\n",
       "        vertical-align: middle;\n",
       "    }\n",
       "\n",
       "    .dataframe tbody tr th {\n",
       "        vertical-align: top;\n",
       "    }\n",
       "\n",
       "    .dataframe thead th {\n",
       "        text-align: right;\n",
       "    }\n",
       "</style>\n",
       "<table border=\"1\" class=\"dataframe\">\n",
       "  <thead>\n",
       "    <tr style=\"text-align: right;\">\n",
       "      <th></th>\n",
       "      <th>X1 transaction date</th>\n",
       "      <th>X2 house age</th>\n",
       "      <th>X3 distance to the nearest MRT station</th>\n",
       "      <th>X4 number of convenience stores</th>\n",
       "      <th>X5 latitude</th>\n",
       "      <th>X6 longitude</th>\n",
       "      <th>Y house price of unit area</th>\n",
       "    </tr>\n",
       "  </thead>\n",
       "  <tbody>\n",
       "    <tr>\n",
       "      <th>count</th>\n",
       "      <td>290.000000</td>\n",
       "      <td>290.000000</td>\n",
       "      <td>290.000000</td>\n",
       "      <td>290.000000</td>\n",
       "      <td>290.000000</td>\n",
       "      <td>290.000000</td>\n",
       "      <td>290.000000</td>\n",
       "    </tr>\n",
       "    <tr>\n",
       "      <th>mean</th>\n",
       "      <td>2013.133355</td>\n",
       "      <td>17.873448</td>\n",
       "      <td>1105.855772</td>\n",
       "      <td>4.103448</td>\n",
       "      <td>24.968524</td>\n",
       "      <td>121.533250</td>\n",
       "      <td>37.590690</td>\n",
       "    </tr>\n",
       "    <tr>\n",
       "      <th>std</th>\n",
       "      <td>0.282571</td>\n",
       "      <td>11.485451</td>\n",
       "      <td>1297.540448</td>\n",
       "      <td>2.914524</td>\n",
       "      <td>0.012537</td>\n",
       "      <td>0.015620</td>\n",
       "      <td>12.775499</td>\n",
       "    </tr>\n",
       "    <tr>\n",
       "      <th>min</th>\n",
       "      <td>2012.667000</td>\n",
       "      <td>0.000000</td>\n",
       "      <td>23.382840</td>\n",
       "      <td>0.000000</td>\n",
       "      <td>24.932070</td>\n",
       "      <td>121.473530</td>\n",
       "      <td>7.600000</td>\n",
       "    </tr>\n",
       "    <tr>\n",
       "      <th>25%</th>\n",
       "      <td>2012.917000</td>\n",
       "      <td>9.750000</td>\n",
       "      <td>289.324800</td>\n",
       "      <td>1.000000</td>\n",
       "      <td>24.962990</td>\n",
       "      <td>121.528153</td>\n",
       "      <td>27.700000</td>\n",
       "    </tr>\n",
       "    <tr>\n",
       "      <th>50%</th>\n",
       "      <td>2013.125000</td>\n",
       "      <td>15.800000</td>\n",
       "      <td>492.231300</td>\n",
       "      <td>4.000000</td>\n",
       "      <td>24.970170</td>\n",
       "      <td>121.538870</td>\n",
       "      <td>38.100000</td>\n",
       "    </tr>\n",
       "    <tr>\n",
       "      <th>75%</th>\n",
       "      <td>2013.417000</td>\n",
       "      <td>28.350000</td>\n",
       "      <td>1479.850500</td>\n",
       "      <td>6.000000</td>\n",
       "      <td>24.977180</td>\n",
       "      <td>121.543438</td>\n",
       "      <td>46.350000</td>\n",
       "    </tr>\n",
       "    <tr>\n",
       "      <th>max</th>\n",
       "      <td>2013.583000</td>\n",
       "      <td>43.800000</td>\n",
       "      <td>6488.021000</td>\n",
       "      <td>10.000000</td>\n",
       "      <td>25.014590</td>\n",
       "      <td>121.566270</td>\n",
       "      <td>78.300000</td>\n",
       "    </tr>\n",
       "  </tbody>\n",
       "</table>\n",
       "</div>"
      ],
      "text/plain": [
       "       X1 transaction date  X2 house age  \\\n",
       "count           290.000000    290.000000   \n",
       "mean           2013.133355     17.873448   \n",
       "std               0.282571     11.485451   \n",
       "min            2012.667000      0.000000   \n",
       "25%            2012.917000      9.750000   \n",
       "50%            2013.125000     15.800000   \n",
       "75%            2013.417000     28.350000   \n",
       "max            2013.583000     43.800000   \n",
       "\n",
       "       X3 distance to the nearest MRT station  \\\n",
       "count                              290.000000   \n",
       "mean                              1105.855772   \n",
       "std                               1297.540448   \n",
       "min                                 23.382840   \n",
       "25%                                289.324800   \n",
       "50%                                492.231300   \n",
       "75%                               1479.850500   \n",
       "max                               6488.021000   \n",
       "\n",
       "       X4 number of convenience stores  X5 latitude  X6 longitude  \\\n",
       "count                       290.000000   290.000000    290.000000   \n",
       "mean                          4.103448    24.968524    121.533250   \n",
       "std                           2.914524     0.012537      0.015620   \n",
       "min                           0.000000    24.932070    121.473530   \n",
       "25%                           1.000000    24.962990    121.528153   \n",
       "50%                           4.000000    24.970170    121.538870   \n",
       "75%                           6.000000    24.977180    121.543438   \n",
       "max                          10.000000    25.014590    121.566270   \n",
       "\n",
       "       Y house price of unit area  \n",
       "count                  290.000000  \n",
       "mean                    37.590690  \n",
       "std                     12.775499  \n",
       "min                      7.600000  \n",
       "25%                     27.700000  \n",
       "50%                     38.100000  \n",
       "75%                     46.350000  \n",
       "max                     78.300000  "
      ]
     },
     "execution_count": 10,
     "metadata": {},
     "output_type": "execute_result"
    }
   ],
   "source": [
    "data = data.drop([\"No\"], axis=1)\n",
    "data.describe()"
   ]
  },
  {
   "cell_type": "code",
   "execution_count": 12,
   "id": "75f74a8c",
   "metadata": {},
   "outputs": [
    {
     "data": {
      "text/plain": [
       "(290, 7)"
      ]
     },
     "execution_count": 12,
     "metadata": {},
     "output_type": "execute_result"
    }
   ],
   "source": [
    "data.shape"
   ]
  },
  {
   "cell_type": "code",
   "execution_count": 20,
   "id": "b9b8ebf0",
   "metadata": {},
   "outputs": [],
   "source": [
    "from sklearn.preprocessing import OneHotEncoder, LabelEncoder\n",
    "from sklearn.model_selection import train_test_split\n",
    "from sklearn.model_selection import RandomizedSearchCV\n",
    "from sklearn.preprocessing import StandardScaler\n",
    "from sklearn.decomposition import PCA\n",
    "from sklearn.pipeline import make_pipeline\n",
    "from sklearn.tree import DecisionTreeRegressor\n",
    "from sklearn.ensemble import RandomForestRegressor\n",
    "from sklearn.linear_model import LinearRegression\n",
    "from xgboost import XGBRegressor\n",
    "from sklearn.neighbors import KNeighborsRegressor\n",
    "from sklearn.model_selection import cross_val_score\n",
    "from sklearn.metrics import mean_squared_error\n",
    "from sklearn import metrics"
   ]
  },
  {
   "cell_type": "code",
   "execution_count": 21,
   "id": "8414682b",
   "metadata": {},
   "outputs": [
    {
     "data": {
      "text/html": [
       "<div>\n",
       "<style scoped>\n",
       "    .dataframe tbody tr th:only-of-type {\n",
       "        vertical-align: middle;\n",
       "    }\n",
       "\n",
       "    .dataframe tbody tr th {\n",
       "        vertical-align: top;\n",
       "    }\n",
       "\n",
       "    .dataframe thead th {\n",
       "        text-align: right;\n",
       "    }\n",
       "</style>\n",
       "<table border=\"1\" class=\"dataframe\">\n",
       "  <thead>\n",
       "    <tr style=\"text-align: right;\">\n",
       "      <th></th>\n",
       "      <th>X1 transaction date</th>\n",
       "      <th>X2 house age</th>\n",
       "      <th>X3 distance to the nearest MRT station</th>\n",
       "      <th>X4 number of convenience stores</th>\n",
       "      <th>X5 latitude</th>\n",
       "      <th>X6 longitude</th>\n",
       "      <th>Y house price of unit area</th>\n",
       "    </tr>\n",
       "  </thead>\n",
       "  <tbody>\n",
       "    <tr>\n",
       "      <th>0</th>\n",
       "      <td>6</td>\n",
       "      <td>2</td>\n",
       "      <td>26</td>\n",
       "      <td>6</td>\n",
       "      <td>24.96571</td>\n",
       "      <td>121.54089</td>\n",
       "      <td>45.1</td>\n",
       "    </tr>\n",
       "    <tr>\n",
       "      <th>1</th>\n",
       "      <td>4</td>\n",
       "      <td>61</td>\n",
       "      <td>92</td>\n",
       "      <td>5</td>\n",
       "      <td>24.96515</td>\n",
       "      <td>121.53737</td>\n",
       "      <td>42.3</td>\n",
       "    </tr>\n",
       "    <tr>\n",
       "      <th>2</th>\n",
       "      <td>5</td>\n",
       "      <td>0</td>\n",
       "      <td>37</td>\n",
       "      <td>1</td>\n",
       "      <td>24.97480</td>\n",
       "      <td>121.53059</td>\n",
       "      <td>52.2</td>\n",
       "    </tr>\n",
       "    <tr>\n",
       "      <th>3</th>\n",
       "      <td>3</td>\n",
       "      <td>56</td>\n",
       "      <td>18</td>\n",
       "      <td>1</td>\n",
       "      <td>24.97371</td>\n",
       "      <td>121.52984</td>\n",
       "      <td>37.3</td>\n",
       "    </tr>\n",
       "    <tr>\n",
       "      <th>4</th>\n",
       "      <td>0</td>\n",
       "      <td>106</td>\n",
       "      <td>167</td>\n",
       "      <td>3</td>\n",
       "      <td>24.96322</td>\n",
       "      <td>121.51237</td>\n",
       "      <td>22.8</td>\n",
       "    </tr>\n",
       "  </tbody>\n",
       "</table>\n",
       "</div>"
      ],
      "text/plain": [
       "   X1 transaction date  X2 house age  X3 distance to the nearest MRT station  \\\n",
       "0                    6             2                                      26   \n",
       "1                    4            61                                      92   \n",
       "2                    5             0                                      37   \n",
       "3                    3            56                                      18   \n",
       "4                    0           106                                     167   \n",
       "\n",
       "   X4 number of convenience stores  X5 latitude  X6 longitude  \\\n",
       "0                                6     24.96571     121.54089   \n",
       "1                                5     24.96515     121.53737   \n",
       "2                                1     24.97480     121.53059   \n",
       "3                                1     24.97371     121.52984   \n",
       "4                                3     24.96322     121.51237   \n",
       "\n",
       "   Y house price of unit area  \n",
       "0                        45.1  \n",
       "1                        42.3  \n",
       "2                        52.2  \n",
       "3                        37.3  \n",
       "4                        22.8  "
      ]
     },
     "execution_count": 21,
     "metadata": {},
     "output_type": "execute_result"
    }
   ],
   "source": [
    "label_data = data.copy()\n",
    "label_encoder = LabelEncoder()\n",
    "object_cols = [\"X1 transaction date\", \"X2 house age\", \"X3 distance to the nearest MRT station\"]\n",
    "for col in object_cols:\n",
    "    label_data[col] = label_encoder.fit_transform(label_data[col])\n",
    "label_data.head()"
   ]
  },
  {
   "cell_type": "code",
   "execution_count": 22,
   "id": "0a4371f0",
   "metadata": {},
   "outputs": [
    {
     "data": {
      "text/plain": [
       "<Axes: >"
      ]
     },
     "execution_count": 22,
     "metadata": {},
     "output_type": "execute_result"
    },
    {
     "data": {
      "image/png": "[encoded data removed]",
      "text/plain": [
       "<Figure size 1200x1200 with 2 Axes>"
      ]
     },
     "metadata": {},
     "output_type": "display_data"
    }
   ],
   "source": [
    "cmap = sns.diverging_palette(70,20,s=50, l=40, n=6,as_cmap=True)\n",
    "corrmat= label_data.corr()\n",
    "f, ax = plt.subplots(figsize=(12,12))\n",
    "sns.heatmap(corrmat,cmap=cmap,annot=True, )"
   ]
  },
  {
   "cell_type": "code",
   "execution_count": 23,
   "id": "96509441",
   "metadata": {},
   "outputs": [],
   "source": [
    "X= label_data.drop([\"X6 longitude\"],axis =1)\n",
    "y= label_data[\"X6 longitude\"]\n",
    "X_train, X_test, y_train, y_test = train_test_split(X, y,test_size=0.25, random_state=7)"
   ]
  },
  {
   "cell_type": "code",
   "execution_count": 24,
   "id": "d7c33a59",
   "metadata": {},
   "outputs": [],
   "source": [
    "pipeline_rf = make_pipeline(StandardScaler(), RandomForestRegressor())"
   ]
  },
  {
   "cell_type": "code",
   "execution_count": 25,
   "id": "7670dd10",
   "metadata": {},
   "outputs": [],
   "source": [
    "param_distributions = {\n",
    "    'randomforestregressor__n_estimators': [100, 200, 300],\n",
    "    'randomforestregressor__max_depth': [None, 10, 20, 30],\n",
    "    'randomforestregressor__min_samples_split': [2, 5, 10],\n",
    "    'randomforestregressor__min_samples_leaf': [1, 2, 4],\n",
    "    'randomforestregressor__bootstrap': [True, False]\n",
    "}"
   ]
  },
  {
   "cell_type": "code",
   "execution_count": 26,
   "id": "bb9c5704",
   "metadata": {},
   "outputs": [],
   "source": [
    "random_search = RandomizedSearchCV(pipeline_rf, param_distributions, n_iter=10, cv=5, scoring='neg_mean_squared_error', n_jobs=-1, random_state=42)"
   ]
  },
  {
   "cell_type": "code",
   "execution_count": 27,
   "id": "75e87fb4",
   "metadata": {},
   "outputs": [
    {
     "data": {
      "text/html": [
       "<style>#sk-container-id-1 {color: black;background-color: white;}#sk-container-id-1 pre{padding: 0;}#sk-container-id-1 div.sk-toggleable {background-color: white;}#sk-container-id-1 label.sk-toggleable__label {cursor: pointer;display: block;width: 100%;margin-bottom: 0;padding: 0.3em;box-sizing: border-box;text-align: center;}#sk-container-id-1 label.sk-toggleable__label-arrow:before {content: \"▸\";float: left;margin-right: 0.25em;color: #696969;}#sk-container-id-1 label.sk-toggleable__label-arrow:hover:before {color: black;}#sk-container-id-1 div.sk-estimator:hover label.sk-toggleable__label-arrow:before {color: black;}#sk-container-id-1 div.sk-toggleable__content {max-height: 0;max-width: 0;overflow: hidden;text-align: left;background-color: #f0f8ff;}#sk-container-id-1 div.sk-toggleable__content pre {margin: 0.2em;color: black;border-radius: 0.25em;background-color: #f0f8ff;}#sk-container-id-1 input.sk-toggleable__control:checked~div.sk-toggleable__content {max-height: 200px;max-width: 100%;overflow: auto;}#sk-container-id-1 input.sk-toggleable__control:checked~label.sk-toggleable__label-arrow:before {content: \"▾\";}#sk-container-id-1 div.sk-estimator input.sk-toggleable__control:checked~label.sk-toggleable__label {background-color: #d4ebff;}#sk-container-id-1 div.sk-label input.sk-toggleable__control:checked~label.sk-toggleable__label {background-color: #d4ebff;}#sk-container-id-1 input.sk-hidden--visually {border: 0;clip: rect(1px 1px 1px 1px);clip: rect(1px, 1px, 1px, 1px);height: 1px;margin: -1px;overflow: hidden;padding: 0;position: absolute;width: 1px;}#sk-container-id-1 div.sk-estimator {font-family: monospace;background-color: #f0f8ff;border: 1px dotted black;border-radius: 0.25em;box-sizing: border-box;margin-bottom: 0.5em;}#sk-container-id-1 div.sk-estimator:hover {background-color: #d4ebff;}#sk-container-id-1 div.sk-parallel-item::after {content: \"\";width: 100%;border-bottom: 1px solid gray;flex-grow: 1;}#sk-container-id-1 div.sk-label:hover label.sk-toggleable__label {background-color: #d4ebff;}#sk-container-id-1 div.sk-serial::before {content: \"\";position: absolute;border-left: 1px solid gray;box-sizing: border-box;top: 0;bottom: 0;left: 50%;z-index: 0;}#sk-container-id-1 div.sk-serial {display: flex;flex-direction: column;align-items: center;background-color: white;padding-right: 0.2em;padding-left: 0.2em;position: relative;}#sk-container-id-1 div.sk-item {position: relative;z-index: 1;}#sk-container-id-1 div.sk-parallel {display: flex;align-items: stretch;justify-content: center;background-color: white;position: relative;}#sk-container-id-1 div.sk-item::before, #sk-container-id-1 div.sk-parallel-item::before {content: \"\";position: absolute;border-left: 1px solid gray;box-sizing: border-box;top: 0;bottom: 0;left: 50%;z-index: -1;}#sk-container-id-1 div.sk-parallel-item {display: flex;flex-direction: column;z-index: 1;position: relative;background-color: white;}#sk-container-id-1 div.sk-parallel-item:first-child::after {align-self: flex-end;width: 50%;}#sk-container-id-1 div.sk-parallel-item:last-child::after {align-self: flex-start;width: 50%;}#sk-container-id-1 div.sk-parallel-item:only-child::after {width: 0;}#sk-container-id-1 div.sk-dashed-wrapped {border: 1px dashed gray;margin: 0 0.4em 0.5em 0.4em;box-sizing: border-box;padding-bottom: 0.4em;background-color: white;}#sk-container-id-1 div.sk-label label {font-family: monospace;font-weight: bold;display: inline-block;line-height: 1.2em;}#sk-container-id-1 div.sk-label-container {text-align: center;}#sk-container-id-1 div.sk-container {/* jupyter's `normalize.less` sets `[hidden] { display: none; }` but bootstrap.min.css set `[hidden] { display: none !important; }` so we also need the `!important` here to be able to override the default hidden behavior on the sphinx rendered scikit-learn.org. See: https://github.com/scikit-learn/scikit-learn/issues/21755 */display: inline-block !important;position: relative;}#sk-container-id-1 div.sk-text-repr-fallback {display: none;}</style><div id=\"sk-container-id-1\" class=\"sk-top-container\"><div class=\"sk-text-repr-fallback\"><pre>RandomizedSearchCV(cv=5,\n",
       "                   estimator=Pipeline(steps=[(&#x27;standardscaler&#x27;,\n",
       "                                              StandardScaler()),\n",
       "                                             (&#x27;randomforestregressor&#x27;,\n",
       "                                              RandomForestRegressor())]),\n",
       "                   n_jobs=-1,\n",
       "                   param_distributions={&#x27;randomforestregressor__bootstrap&#x27;: [True,\n",
       "                                                                             False],\n",
       "                                        &#x27;randomforestregressor__max_depth&#x27;: [None,\n",
       "                                                                             10,\n",
       "                                                                             20,\n",
       "                                                                             30],\n",
       "                                        &#x27;randomforestregressor__min_samples_leaf&#x27;: [1,\n",
       "                                                                                    2,\n",
       "                                                                                    4],\n",
       "                                        &#x27;randomforestregressor__min_samples_split&#x27;: [2,\n",
       "                                                                                     5,\n",
       "                                                                                     10],\n",
       "                                        &#x27;randomforestregressor__n_estimators&#x27;: [100,\n",
       "                                                                                200,\n",
       "                                                                                300]},\n",
       "                   random_state=42, scoring=&#x27;neg_mean_squared_error&#x27;)</pre><b>In a Jupyter environment, please rerun this cell to show the HTML representation or trust the notebook. <br />On GitHub, the HTML representation is unable to render, please try loading this page with nbviewer.org.</b></div><div class=\"sk-container\" hidden><div class=\"sk-item sk-dashed-wrapped\"><div class=\"sk-label-container\"><div class=\"sk-label sk-toggleable\"><input class=\"sk-toggleable__control sk-hidden--visually\" id=\"sk-estimator-id-1\" type=\"checkbox\" ><label for=\"sk-estimator-id-1\" class=\"sk-toggleable__label sk-toggleable__label-arrow\">RandomizedSearchCV</label><div class=\"sk-toggleable__content\"><pre>RandomizedSearchCV(cv=5,\n",
       "                   estimator=Pipeline(steps=[(&#x27;standardscaler&#x27;,\n",
       "                                              StandardScaler()),\n",
       "                                             (&#x27;randomforestregressor&#x27;,\n",
       "                                              RandomForestRegressor())]),\n",
       "                   n_jobs=-1,\n",
       "                   param_distributions={&#x27;randomforestregressor__bootstrap&#x27;: [True,\n",
       "                                                                             False],\n",
       "                                        &#x27;randomforestregressor__max_depth&#x27;: [None,\n",
       "                                                                             10,\n",
       "                                                                             20,\n",
       "                                                                             30],\n",
       "                                        &#x27;randomforestregressor__min_samples_leaf&#x27;: [1,\n",
       "                                                                                    2,\n",
       "                                                                                    4],\n",
       "                                        &#x27;randomforestregressor__min_samples_split&#x27;: [2,\n",
       "                                                                                     5,\n",
       "                                                                                     10],\n",
       "                                        &#x27;randomforestregressor__n_estimators&#x27;: [100,\n",
       "                                                                                200,\n",
       "                                                                                300]},\n",
       "                   random_state=42, scoring=&#x27;neg_mean_squared_error&#x27;)</pre></div></div></div><div class=\"sk-parallel\"><div class=\"sk-parallel-item\"><div class=\"sk-item\"><div class=\"sk-label-container\"><div class=\"sk-label sk-toggleable\"><input class=\"sk-toggleable__control sk-hidden--visually\" id=\"sk-estimator-id-2\" type=\"checkbox\" ><label for=\"sk-estimator-id-2\" class=\"sk-toggleable__label sk-toggleable__label-arrow\">estimator: Pipeline</label><div class=\"sk-toggleable__content\"><pre>Pipeline(steps=[(&#x27;standardscaler&#x27;, StandardScaler()),\n",
       "                (&#x27;randomforestregressor&#x27;, RandomForestRegressor())])</pre></div></div></div><div class=\"sk-serial\"><div class=\"sk-item\"><div class=\"sk-serial\"><div class=\"sk-item\"><div class=\"sk-estimator sk-toggleable\"><input class=\"sk-toggleable__control sk-hidden--visually\" id=\"sk-estimator-id-3\" type=\"checkbox\" ><label for=\"sk-estimator-id-3\" class=\"sk-toggleable__label sk-toggleable__label-arrow\">StandardScaler</label><div class=\"sk-toggleable__content\"><pre>StandardScaler()</pre></div></div></div><div class=\"sk-item\"><div class=\"sk-estimator sk-toggleable\"><input class=\"sk-toggleable__control sk-hidden--visually\" id=\"sk-estimator-id-4\" type=\"checkbox\" ><label for=\"sk-estimator-id-4\" class=\"sk-toggleable__label sk-toggleable__label-arrow\">RandomForestRegressor</label><div class=\"sk-toggleable__content\"><pre>RandomForestRegressor()</pre></div></div></div></div></div></div></div></div></div></div></div></div>"
      ],
      "text/plain": [
       "RandomizedSearchCV(cv=5,\n",
       "                   estimator=Pipeline(steps=[('standardscaler',\n",
       "                                              StandardScaler()),\n",
       "                                             ('randomforestregressor',\n",
       "                                              RandomForestRegressor())]),\n",
       "                   n_jobs=-1,\n",
       "                   param_distributions={'randomforestregressor__bootstrap': [True,\n",
       "                                                                             False],\n",
       "                                        'randomforestregressor__max_depth': [None,\n",
       "                                                                             10,\n",
       "                                                                             20,\n",
       "                                                                             30],\n",
       "                                        'randomforestregressor__min_samples_leaf': [1,\n",
       "                                                                                    2,\n",
       "                                                                                    4],\n",
       "                                        'randomforestregressor__min_samples_split': [2,\n",
       "                                                                                     5,\n",
       "                                                                                     10],\n",
       "                                        'randomforestregressor__n_estimators': [100,\n",
       "                                                                                200,\n",
       "                                                                                300]},\n",
       "                   random_state=42, scoring='neg_mean_squared_error')"
      ]
     },
     "execution_count": 27,
     "metadata": {},
     "output_type": "execute_result"
    }
   ],
   "source": [
    "random_search.fit(X_train, y_train)"
   ]
  },
  {
   "cell_type": "code",
   "execution_count": 28,
   "id": "a9832c9f",
   "metadata": {},
   "outputs": [],
   "source": [
    "best_params_rf = random_search.best_params_\n",
    "best_model_rf = random_search.best_estimator_"
   ]
  },
  {
   "cell_type": "code",
   "execution_count": 29,
   "id": "456e28a9",
   "metadata": {},
   "outputs": [],
   "source": [
    "rf_pred = best_model_rf.predict(X_test)"
   ]
  },
  {
   "cell_type": "code",
   "execution_count": 30,
   "id": "919a5372",
   "metadata": {},
   "outputs": [
    {
     "data": {
      "text/plain": [
       "3.5319506408710395e-05"
      ]
     },
     "execution_count": 30,
     "metadata": {},
     "output_type": "execute_result"
    }
   ],
   "source": [
    "metrics.mean_squared_error(y_test, rf_pred)"
   ]
  },
  {
   "cell_type": "code",
   "execution_count": 31,
   "id": "ecd89983",
   "metadata": {},
   "outputs": [],
   "source": [
    "param_distributions = {\n",
    "    'xgbregressor__n_estimators': [100, 200, 300],\n",
    "    'xgbregressor__max_depth': [3, 4, 5],\n",
    "    'xgbregressor__learning_rate': [0.01, 0.05, 0.1],\n",
    "    'xgbregressor__min_child_weight': [1, 3, 5],\n",
    "    'xgbregressor__gamma': [0, 0.1, 0.3],\n",
    "    'xgbregressor__subsample': [0.6, 0.8, 1.0],\n",
    "    'xgbregressor__colsample_bytree': [0.6, 0.8, 1.0]\n",
    "}"
   ]
  },
  {
   "cell_type": "code",
   "execution_count": 32,
   "id": "d2a41e18",
   "metadata": {},
   "outputs": [],
   "source": [
    "pipeline_xgb = make_pipeline(StandardScaler(), XGBRegressor())"
   ]
  },
  {
   "cell_type": "code",
   "execution_count": 33,
   "id": "20505663",
   "metadata": {},
   "outputs": [],
   "source": [
    "random_search = RandomizedSearchCV(pipeline_xgb, param_distributions, n_iter=10, cv=5, scoring='neg_mean_squared_error', n_jobs=-1, random_state=42)"
   ]
  },
  {
   "cell_type": "code",
   "execution_count": 34,
   "id": "8b9051b9",
   "metadata": {},
   "outputs": [
    {
     "data": {
      "text/html": [
       "<style>#sk-container-id-2 {color: black;background-color: white;}#sk-container-id-2 pre{padding: 0;}#sk-container-id-2 div.sk-toggleable {background-color: white;}#sk-container-id-2 label.sk-toggleable__label {cursor: pointer;display: block;width: 100%;margin-bottom: 0;padding: 0.3em;box-sizing: border-box;text-align: center;}#sk-container-id-2 label.sk-toggleable__label-arrow:before {content: \"▸\";float: left;margin-right: 0.25em;color: #696969;}#sk-container-id-2 label.sk-toggleable__label-arrow:hover:before {color: black;}#sk-container-id-2 div.sk-estimator:hover label.sk-toggleable__label-arrow:before {color: black;}#sk-container-id-2 div.sk-toggleable__content {max-height: 0;max-width: 0;overflow: hidden;text-align: left;background-color: #f0f8ff;}#sk-container-id-2 div.sk-toggleable__content pre {margin: 0.2em;color: black;border-radius: 0.25em;background-color: #f0f8ff;}#sk-container-id-2 input.sk-toggleable__control:checked~div.sk-toggleable__content {max-height: 200px;max-width: 100%;overflow: auto;}#sk-container-id-2 input.sk-toggleable__control:checked~label.sk-toggleable__label-arrow:before {content: \"▾\";}#sk-container-id-2 div.sk-estimator input.sk-toggleable__control:checked~label.sk-toggleable__label {background-color: #d4ebff;}#sk-container-id-2 div.sk-label input.sk-toggleable__control:checked~label.sk-toggleable__label {background-color: #d4ebff;}#sk-container-id-2 input.sk-hidden--visually {border: 0;clip: rect(1px 1px 1px 1px);clip: rect(1px, 1px, 1px, 1px);height: 1px;margin: -1px;overflow: hidden;padding: 0;position: absolute;width: 1px;}#sk-container-id-2 div.sk-estimator {font-family: monospace;background-color: #f0f8ff;border: 1px dotted black;border-radius: 0.25em;box-sizing: border-box;margin-bottom: 0.5em;}#sk-container-id-2 div.sk-estimator:hover {background-color: #d4ebff;}#sk-container-id-2 div.sk-parallel-item::after {content: \"\";width: 100%;border-bottom: 1px solid gray;flex-grow: 1;}#sk-container-id-2 div.sk-label:hover label.sk-toggleable__label {background-color: #d4ebff;}#sk-container-id-2 div.sk-serial::before {content: \"\";position: absolute;border-left: 1px solid gray;box-sizing: border-box;top: 0;bottom: 0;left: 50%;z-index: 0;}#sk-container-id-2 div.sk-serial {display: flex;flex-direction: column;align-items: center;background-color: white;padding-right: 0.2em;padding-left: 0.2em;position: relative;}#sk-container-id-2 div.sk-item {position: relative;z-index: 1;}#sk-container-id-2 div.sk-parallel {display: flex;align-items: stretch;justify-content: center;background-color: white;position: relative;}#sk-container-id-2 div.sk-item::before, #sk-container-id-2 div.sk-parallel-item::before {content: \"\";position: absolute;border-left: 1px solid gray;box-sizing: border-box;top: 0;bottom: 0;left: 50%;z-index: -1;}#sk-container-id-2 div.sk-parallel-item {display: flex;flex-direction: column;z-index: 1;position: relative;background-color: white;}#sk-container-id-2 div.sk-parallel-item:first-child::after {align-self: flex-end;width: 50%;}#sk-container-id-2 div.sk-parallel-item:last-child::after {align-self: flex-start;width: 50%;}#sk-container-id-2 div.sk-parallel-item:only-child::after {width: 0;}#sk-container-id-2 div.sk-dashed-wrapped {border: 1px dashed gray;margin: 0 0.4em 0.5em 0.4em;box-sizing: border-box;padding-bottom: 0.4em;background-color: white;}#sk-container-id-2 div.sk-label label {font-family: monospace;font-weight: bold;display: inline-block;line-height: 1.2em;}#sk-container-id-2 div.sk-label-container {text-align: center;}#sk-container-id-2 div.sk-container {/* jupyter's `normalize.less` sets `[hidden] { display: none; }` but bootstrap.min.css set `[hidden] { display: none !important; }` so we also need the `!important` here to be able to override the default hidden behavior on the sphinx rendered scikit-learn.org. See: https://github.com/scikit-learn/scikit-learn/issues/21755 */display: inline-block !important;position: relative;}#sk-container-id-2 div.sk-text-repr-fallback {display: none;}</style><div id=\"sk-container-id-2\" class=\"sk-top-container\"><div class=\"sk-text-repr-fallback\"><pre>RandomizedSearchCV(cv=5,\n",
       "                   estimator=Pipeline(steps=[(&#x27;standardscaler&#x27;,\n",
       "                                              StandardScaler()),\n",
       "                                             (&#x27;xgbregressor&#x27;,\n",
       "                                              XGBRegressor(base_score=None,\n",
       "                                                           booster=None,\n",
       "                                                           callbacks=None,\n",
       "                                                           colsample_bylevel=None,\n",
       "                                                           colsample_bynode=None,\n",
       "                                                           colsample_bytree=None,\n",
       "                                                           device=None,\n",
       "                                                           early_stopping_rounds=None,\n",
       "                                                           enable_categorical=False,\n",
       "                                                           eval_metric=None,\n",
       "                                                           feature_types=None,\n",
       "                                                           gamma=None,\n",
       "                                                           grow_policy=N...\n",
       "                   param_distributions={&#x27;xgbregressor__colsample_bytree&#x27;: [0.6,\n",
       "                                                                           0.8,\n",
       "                                                                           1.0],\n",
       "                                        &#x27;xgbregressor__gamma&#x27;: [0, 0.1, 0.3],\n",
       "                                        &#x27;xgbregressor__learning_rate&#x27;: [0.01,\n",
       "                                                                        0.05,\n",
       "                                                                        0.1],\n",
       "                                        &#x27;xgbregressor__max_depth&#x27;: [3, 4, 5],\n",
       "                                        &#x27;xgbregressor__min_child_weight&#x27;: [1, 3,\n",
       "                                                                           5],\n",
       "                                        &#x27;xgbregressor__n_estimators&#x27;: [100, 200,\n",
       "                                                                       300],\n",
       "                                        &#x27;xgbregressor__subsample&#x27;: [0.6, 0.8,\n",
       "                                                                    1.0]},\n",
       "                   random_state=42, scoring=&#x27;neg_mean_squared_error&#x27;)</pre><b>In a Jupyter environment, please rerun this cell to show the HTML representation or trust the notebook. <br />On GitHub, the HTML representation is unable to render, please try loading this page with nbviewer.org.</b></div><div class=\"sk-container\" hidden><div class=\"sk-item sk-dashed-wrapped\"><div class=\"sk-label-container\"><div class=\"sk-label sk-toggleable\"><input class=\"sk-toggleable__control sk-hidden--visually\" id=\"sk-estimator-id-5\" type=\"checkbox\" ><label for=\"sk-estimator-id-5\" class=\"sk-toggleable__label sk-toggleable__label-arrow\">RandomizedSearchCV</label><div class=\"sk-toggleable__content\"><pre>RandomizedSearchCV(cv=5,\n",
       "                   estimator=Pipeline(steps=[(&#x27;standardscaler&#x27;,\n",
       "                                              StandardScaler()),\n",
       "                                             (&#x27;xgbregressor&#x27;,\n",
       "                                              XGBRegressor(base_score=None,\n",
       "                                                           booster=None,\n",
       "                                                           callbacks=None,\n",
       "                                                           colsample_bylevel=None,\n",
       "                                                           colsample_bynode=None,\n",
       "                                                           colsample_bytree=None,\n",
       "                                                           device=None,\n",
       "                                                           early_stopping_rounds=None,\n",
       "                                                           enable_categorical=False,\n",
       "                                                           eval_metric=None,\n",
       "                                                           feature_types=None,\n",
       "                                                           gamma=None,\n",
       "                                                           grow_policy=N...\n",
       "                   param_distributions={&#x27;xgbregressor__colsample_bytree&#x27;: [0.6,\n",
       "                                                                           0.8,\n",
       "                                                                           1.0],\n",
       "                                        &#x27;xgbregressor__gamma&#x27;: [0, 0.1, 0.3],\n",
       "                                        &#x27;xgbregressor__learning_rate&#x27;: [0.01,\n",
       "                                                                        0.05,\n",
       "                                                                        0.1],\n",
       "                                        &#x27;xgbregressor__max_depth&#x27;: [3, 4, 5],\n",
       "                                        &#x27;xgbregressor__min_child_weight&#x27;: [1, 3,\n",
       "                                                                           5],\n",
       "                                        &#x27;xgbregressor__n_estimators&#x27;: [100, 200,\n",
       "                                                                       300],\n",
       "                                        &#x27;xgbregressor__subsample&#x27;: [0.6, 0.8,\n",
       "                                                                    1.0]},\n",
       "                   random_state=42, scoring=&#x27;neg_mean_squared_error&#x27;)</pre></div></div></div><div class=\"sk-parallel\"><div class=\"sk-parallel-item\"><div class=\"sk-item\"><div class=\"sk-label-container\"><div class=\"sk-label sk-toggleable\"><input class=\"sk-toggleable__control sk-hidden--visually\" id=\"sk-estimator-id-6\" type=\"checkbox\" ><label for=\"sk-estimator-id-6\" class=\"sk-toggleable__label sk-toggleable__label-arrow\">estimator: Pipeline</label><div class=\"sk-toggleable__content\"><pre>Pipeline(steps=[(&#x27;standardscaler&#x27;, StandardScaler()),\n",
       "                (&#x27;xgbregressor&#x27;,\n",
       "                 XGBRegressor(base_score=None, booster=None, callbacks=None,\n",
       "                              colsample_bylevel=None, colsample_bynode=None,\n",
       "                              colsample_bytree=None, device=None,\n",
       "                              early_stopping_rounds=None,\n",
       "                              enable_categorical=False, eval_metric=None,\n",
       "                              feature_types=None, gamma=None, grow_policy=None,\n",
       "                              importance_type=None,\n",
       "                              interaction_constraints=None, learning_rate=None,\n",
       "                              max_bin=None, max_cat_threshold=None,\n",
       "                              max_cat_to_onehot=None, max_delta_step=None,\n",
       "                              max_depth=None, max_leaves=None,\n",
       "                              min_child_weight=None, missing=nan,\n",
       "                              monotone_constraints=None, multi_strategy=None,\n",
       "                              n_estimators=None, n_jobs=None,\n",
       "                              num_parallel_tree=None, random_state=None, ...))])</pre></div></div></div><div class=\"sk-serial\"><div class=\"sk-item\"><div class=\"sk-serial\"><div class=\"sk-item\"><div class=\"sk-estimator sk-toggleable\"><input class=\"sk-toggleable__control sk-hidden--visually\" id=\"sk-estimator-id-7\" type=\"checkbox\" ><label for=\"sk-estimator-id-7\" class=\"sk-toggleable__label sk-toggleable__label-arrow\">StandardScaler</label><div class=\"sk-toggleable__content\"><pre>StandardScaler()</pre></div></div></div><div class=\"sk-item\"><div class=\"sk-estimator sk-toggleable\"><input class=\"sk-toggleable__control sk-hidden--visually\" id=\"sk-estimator-id-8\" type=\"checkbox\" ><label for=\"sk-estimator-id-8\" class=\"sk-toggleable__label sk-toggleable__label-arrow\">XGBRegressor</label><div class=\"sk-toggleable__content\"><pre>XGBRegressor(base_score=None, booster=None, callbacks=None,\n",
       "             colsample_bylevel=None, colsample_bynode=None,\n",
       "             colsample_bytree=None, device=None, early_stopping_rounds=None,\n",
       "             enable_categorical=False, eval_metric=None, feature_types=None,\n",
       "             gamma=None, grow_policy=None, importance_type=None,\n",
       "             interaction_constraints=None, learning_rate=None, max_bin=None,\n",
       "             max_cat_threshold=None, max_cat_to_onehot=None,\n",
       "             max_delta_step=None, max_depth=None, max_leaves=None,\n",
       "             min_child_weight=None, missing=nan, monotone_constraints=None,\n",
       "             multi_strategy=None, n_estimators=None, n_jobs=None,\n",
       "             num_parallel_tree=None, random_state=None, ...)</pre></div></div></div></div></div></div></div></div></div></div></div></div>"
      ],
      "text/plain": [
       "RandomizedSearchCV(cv=5,\n",
       "                   estimator=Pipeline(steps=[('standardscaler',\n",
       "                                              StandardScaler()),\n",
       "                                             ('xgbregressor',\n",
       "                                              XGBRegressor(base_score=None,\n",
       "                                                           booster=None,\n",
       "                                                           callbacks=None,\n",
       "                                                           colsample_bylevel=None,\n",
       "                                                           colsample_bynode=None,\n",
       "                                                           colsample_bytree=None,\n",
       "                                                           device=None,\n",
       "                                                           early_stopping_rounds=None,\n",
       "                                                           enable_categorical=False,\n",
       "                                                           eval_metric=None,\n",
       "                                                           feature_types=None,\n",
       "                                                           gamma=None,\n",
       "                                                           grow_policy=N...\n",
       "                   param_distributions={'xgbregressor__colsample_bytree': [0.6,\n",
       "                                                                           0.8,\n",
       "                                                                           1.0],\n",
       "                                        'xgbregressor__gamma': [0, 0.1, 0.3],\n",
       "                                        'xgbregressor__learning_rate': [0.01,\n",
       "                                                                        0.05,\n",
       "                                                                        0.1],\n",
       "                                        'xgbregressor__max_depth': [3, 4, 5],\n",
       "                                        'xgbregressor__min_child_weight': [1, 3,\n",
       "                                                                           5],\n",
       "                                        'xgbregressor__n_estimators': [100, 200,\n",
       "                                                                       300],\n",
       "                                        'xgbregressor__subsample': [0.6, 0.8,\n",
       "                                                                    1.0]},\n",
       "                   random_state=42, scoring='neg_mean_squared_error')"
      ]
     },
     "execution_count": 34,
     "metadata": {},
     "output_type": "execute_result"
    }
   ],
   "source": [
    "random_search.fit(X_train, y_train)"
   ]
  },
  {
   "cell_type": "code",
   "execution_count": 35,
   "id": "a8709034",
   "metadata": {},
   "outputs": [],
   "source": [
    "best_params_xgb = random_search.best_params_\n",
    "best_model_xgb = random_search.best_estimator_"
   ]
  },
  {
   "cell_type": "code",
   "execution_count": 36,
   "id": "650e28c1",
   "metadata": {},
   "outputs": [],
   "source": [
    "xgb_pred = best_model_xgb.predict(X_test)"
   ]
  },
  {
   "cell_type": "code",
   "execution_count": 37,
   "id": "29e73ede",
   "metadata": {},
   "outputs": [
    {
     "data": {
      "text/plain": [
       "4.0601528524063016e-05"
      ]
     },
     "execution_count": 37,
     "metadata": {},
     "output_type": "execute_result"
    }
   ],
   "source": [
    "metrics.mean_squared_error(y_test, xgb_pred)"
   ]
  },
  {
   "cell_type": "code",
   "execution_count": 38,
   "id": "f2d8cebc",
   "metadata": {},
   "outputs": [
    {
     "name": "stdout",
     "output_type": "stream",
     "text": [
      "R^2: 0.8588635400952824\n",
      "Adjusted R^2: 0.8460329528312172\n",
      "MAE: 0.003820005050032135\n",
      "MSE: 4.0601528524063016e-05\n",
      "RMSE: 0.006371932871904962\n"
     ]
    }
   ],
   "source": [
    "print(\"R^2:\",metrics.r2_score(y_test, xgb_pred))\n",
    "print(\"Adjusted R^2:\",1 - (1-metrics.r2_score(y_test, xgb_pred))*(len(y_test)-1)/(len(y_test)-X_test.shape[1]-1))\n",
    "print(\"MAE:\",metrics.mean_absolute_error(y_test, xgb_pred))\n",
    "print(\"MSE:\",metrics.mean_squared_error(y_test, xgb_pred))\n",
    "print(\"RMSE:\",np.sqrt(metrics.mean_squared_error(y_test, xgb_pred)))"
   ]
  }
 ],
 "metadata": {
  "kernelspec": {
   "display_name": "Python 3 (ipykernel)",
   "language": "python",
   "name": "python3"
  },
  "language_info": {
   "codemirror_mode": {
    "name": "ipython",
    "version": 3
   },
   "file_extension": ".py",
   "mimetype": "text/x-python",
   "name": "python",
   "nbconvert_exporter": "python",
   "pygments_lexer": "ipython3",
   "version": "3.10.9"
  }
 },
 "nbformat": 4,
 "nbformat_minor": 5
}
